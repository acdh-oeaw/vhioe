{
 "cells": [
  {
   "cell_type": "code",
   "execution_count": 4,
   "metadata": {
    "collapsed": true
   },
   "outputs": [],
   "source": [
    "import lxml.etree as ET"
   ]
  },
  {
   "cell_type": "code",
   "execution_count": 6,
   "metadata": {
    "collapsed": true
   },
   "outputs": [],
   "source": [
    "file = 'vocabs/data/japbibthesaurus_03.rdf'"
   ]
  },
  {
   "cell_type": "code",
   "execution_count": 7,
   "metadata": {
    "collapsed": true
   },
   "outputs": [],
   "source": [
    "tree = ET.parse(file)"
   ]
  },
  {
   "cell_type": "code",
   "execution_count": 8,
   "metadata": {
    "collapsed": true
   },
   "outputs": [],
   "source": [
    "ns_skos = \"http://www.w3.org/2004/02/skos/core#\"\n",
    "ns_rdf = \"http://www.w3.org/1999/02/22-rdf-syntax-ns#\""
   ]
  },
  {
   "cell_type": "code",
   "execution_count": 9,
   "metadata": {
    "collapsed": true
   },
   "outputs": [],
   "source": [
    "descriptions = tree.findall('rdf:Description', namespaces={\"rdf\":ns_rdf})"
   ]
  },
  {
   "cell_type": "code",
   "execution_count": 11,
   "metadata": {
    "collapsed": false
   },
   "outputs": [
    {
     "name": "stdout",
     "output_type": "stream",
     "text": [
      "# of Concetps: 1422\n"
     ]
    }
   ],
   "source": [
    "concepts = []\n",
    "for x in descriptions:\n",
    "    concept ={}\n",
    "    concept[\"id\"] = x.attrib['{http://www.w3.org/1999/02/22-rdf-syntax-ns#}about']\n",
    "    concept[\"notation\"] = x.find('skos:notation', namespaces={\"skos\":ns_skos})\n",
    "    concept[\"pref_labels\"] = x.findall('skos:prefLabel', namespaces={\"skos\":ns_skos})\n",
    "    concept[\"broader\"] = x.findall('skos:broader', namespaces={\"skos\":ns_skos})\n",
    "    concept[\"narrower\"] = x.findall('skos:narrower', namespaces={\"skos\":ns_skos})\n",
    "    concept[\"closeMatch\"] = x.findall('skos:closeMatch', namespaces={\"skos\":ns_skos})\n",
    "    concept[\"schemes\"] =  x.findall('skos:inScheme', namespaces={\"skos\":ns_skos})\n",
    "    concepts.append(concept)\n",
    "print(\"# of Concetps: {}\".format(len(concepts)))"
   ]
  },
  {
   "cell_type": "code",
   "execution_count": 13,
   "metadata": {
    "collapsed": false,
    "scrolled": true
   },
   "outputs": [
    {
     "name": "stdout",
     "output_type": "stream",
     "text": [
      "0\n",
      "1010\n"
     ]
    }
   ],
   "source": [
    "# create all conceptes mentioned in the skos-file\n",
    "# <skos:broader rdf:resource=\"http://acdh.oeaw.ac.at/vocabs/professions/thepro/militar_2rd\"/>\n",
    "print(len(SkosConcept.objects.all()))\n",
    "for x in concepts:\n",
    "    temp_uri = x['id']\n",
    "    temp_notation = temp_uri.split('/')[-1]\n",
    "    temp_concept,_ = SkosConcept.objects.get_or_create(legacy_id=temp_uri, notation=temp_notation)\n",
    "    try:\n",
    "        temp_concept.pref_label=(x['pref_labels'][0].text)\n",
    "        temp_concept.pref_label_lang=(x['pref_labels'][0].attrib['{http://www.w3.org/XML/1998/namespace}lang'])\n",
    "    except:\n",
    "        pass\n",
    "    temp_concept.save()\n",
    "    for y in x['pref_labels'][1:]:\n",
    "        temp_label,_ = SkosLabel.objects.get_or_create(\n",
    "            label=y.text,\n",
    "            isoCode=y.attrib['{http://www.w3.org/XML/1998/namespace}lang'],\n",
    "            label_type = \"prefLabel\"\n",
    "        )\n",
    "        temp_concept.label = [temp_label]\n",
    "        temp_concept.save()\n",
    "    for z in x['schemes']:\n",
    "        temp_scheme,_ = SkosConceptScheme.objects.get_or_create(\n",
    "            legacy_id=z.attrib['{http://www.w3.org/1999/02/22-rdf-syntax-ns#}resource']\n",
    "        )\n",
    "        temp_scheme.dc_title = file\n",
    "        temp_scheme.save()\n",
    "        temp_concept.scheme=[temp_scheme]\n",
    "    for y in x['broader']:\n",
    "        broader_uri = y.attrib['{http://www.w3.org/1999/02/22-rdf-syntax-ns#}resource']\n",
    "        broader_notation =broader_uri.split('/')[-1]\n",
    "        temp_broader,_ = SkosConcept.objects.get_or_create(legacy_id=broader_uri, notation=broader_notation)\n",
    "        temp_broader.save()\n",
    "        temp_concept.skos_broader=[temp_broader]\n",
    "    for y in x['narrower']:\n",
    "        narrower_uri = y.attrib['{http://www.w3.org/1999/02/22-rdf-syntax-ns#}resource']\n",
    "        narrower_notation =narrower_uri.split('/')[-1]\n",
    "        temp_narrower,_ = SkosConcept.objects.get_or_create(legacy_id=narrower_uri, notation=narrower_notation)\n",
    "        temp_narrower.save()\n",
    "        temp_concept.skos_narrower=[temp_narrower]\n",
    "    for y in x['closeMatch']:\n",
    "        closeMatch_uri = y.attrib['{http://www.w3.org/1999/02/22-rdf-syntax-ns#}resource']\n",
    "        closeMatch_notation =closeMatch_uri.split('/')[-1]\n",
    "        temp_closeMatch,_ = SkosConcept.objects.get_or_create(legacy_id=closeMatch_uri, notation=closeMatch_notation)\n",
    "        temp_closeMatch.save()\n",
    "        temp_concept.skos_closematch=[temp_closeMatch]\n",
    "print(len(SkosConcept.objects.all()))"
   ]
  }
 ],
 "metadata": {
  "kernelspec": {
   "display_name": "Django Shell-Plus",
   "language": "python",
   "name": "django_extensions"
  },
  "language_info": {
   "codemirror_mode": {
    "name": "ipython",
    "version": 3
   },
   "file_extension": ".py",
   "mimetype": "text/x-python",
   "name": "python",
   "nbconvert_exporter": "python",
   "pygments_lexer": "ipython3",
   "version": "3.5.2"
  }
 },
 "nbformat": 4,
 "nbformat_minor": 1
}
