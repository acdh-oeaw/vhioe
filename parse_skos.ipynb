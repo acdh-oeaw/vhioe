{
 "cells": [
  {
   "cell_type": "code",
   "execution_count": 1,
   "metadata": {
    "collapsed": true
   },
   "outputs": [],
   "source": [
    "import lxml.etree as ET"
   ]
  },
  {
   "cell_type": "code",
   "execution_count": 2,
   "metadata": {
    "collapsed": true
   },
   "outputs": [],
   "source": [
    "# since it is most likley that the RDF/XML does not provide any further information about the concept schemes,\n",
    "# it might be a good idea to provide a default skoscheme"
   ]
  },
  {
   "cell_type": "code",
   "execution_count": 3,
   "metadata": {
    "collapsed": true
   },
   "outputs": [],
   "source": [
    "file = 'vocabs/data/thepro_rdf.xml'"
   ]
  },
  {
   "cell_type": "code",
   "execution_count": 4,
   "metadata": {
    "collapsed": true
   },
   "outputs": [],
   "source": [
    "tree = ET.parse(file)"
   ]
  },
  {
   "cell_type": "code",
   "execution_count": 5,
   "metadata": {
    "collapsed": true
   },
   "outputs": [],
   "source": [
    "ns_skos = \"http://www.w3.org/2004/02/skos/core#\"\n",
    "ns_rdf = \"http://www.w3.org/1999/02/22-rdf-syntax-ns#\""
   ]
  },
  {
   "cell_type": "code",
   "execution_count": 6,
   "metadata": {
    "collapsed": true
   },
   "outputs": [],
   "source": [
    "descriptions = tree.findall('rdf:Description', namespaces={\"rdf\":ns_rdf})"
   ]
  },
  {
   "cell_type": "code",
   "execution_count": 7,
   "metadata": {
    "collapsed": true
   },
   "outputs": [],
   "source": [
    "concepts = []\n",
    "for x in descriptions:\n",
    "    concept ={}\n",
    "    concept[\"id\"] = x.attrib['{http://www.w3.org/1999/02/22-rdf-syntax-ns#}about']\n",
    "    concept[\"notation\"] = x.find('skos:notation', namespaces={\"skos\":ns_skos})\n",
    "    concept[\"pref_labels\"] = x.findall('skos:prefLabel', namespaces={\"skos\":ns_skos})\n",
    "    concept[\"broader\"] = x.findall('skos:broader', namespaces={\"skos\":ns_skos})\n",
    "    concept[\"narrower\"] = x.findall('skos:narrower', namespaces={\"skos\":ns_skos})\n",
    "    #pref_label_lang = pref_label.attrib['{http://www.w3.org/XML/1998/namespace}lang']\n",
    "    concept[\"schemes\"] =  x.findall('skos:inScheme', namespaces={\"skos\":ns_skos})\n",
    "    #schema_uri = scheme.attrib['{http://www.w3.org/1999/02/22-rdf-syntax-ns#}resource']\n",
    "    #print(pref_label.text,pref_label_lang, schema_uri)\n",
    "    concepts.append(concept)"
   ]
  },
  {
   "cell_type": "code",
   "execution_count": 8,
   "metadata": {
    "collapsed": false
   },
   "outputs": [
    {
     "data": {
      "text/plain": [
       "{'broader': [<Element {http://www.w3.org/2004/02/skos/core#}broader at 0xe2ca361588>],\n",
       " 'id': 'http://acdh.oeaw.ac.at/vocabs/professions/thepro/gouvernante_3rd',\n",
       " 'narrower': [],\n",
       " 'notation': <Element {http://www.w3.org/2004/02/skos/core#}notation at 0xe2ca361348>,\n",
       " 'pref_labels': [<Element {http://www.w3.org/2004/02/skos/core#}prefLabel at 0xe2ca361908>],\n",
       " 'schemes': [<Element {http://www.w3.org/2004/02/skos/core#}inScheme at 0xe2ca373448>]}"
      ]
     },
     "execution_count": 8,
     "metadata": {},
     "output_type": "execute_result"
    }
   ],
   "source": [
    "concepts[4]"
   ]
  },
  {
   "cell_type": "code",
   "execution_count": 20,
   "metadata": {
    "collapsed": false,
    "scrolled": true
   },
   "outputs": [
    {
     "name": "stdout",
     "output_type": "stream",
     "text": [
      "20\n",
      "20\n"
     ]
    }
   ],
   "source": [
    "print(len(SkosConcept.objects.all()))\n",
    "for x in concepts[:20]:\n",
    "    temp_uri = x['id']\n",
    "    temp_notation = temp_uri.split('/')[-1]\n",
    "    temp_concept,_ = SkosConcept.objects.get_or_create(legacy_id=temp_uri, notation=temp_notation)\n",
    "    temp_concept.pref_label=(x['pref_labels'][0].text)\n",
    "    temp_concept.pref_label_lang=(x['pref_labels'][0].attrib['{http://www.w3.org/XML/1998/namespace}lang'])\n",
    "    temp_pref_label = x['pref_labels'][0]\n",
    "    temp_concept.save()\n",
    "    for y in x['pref_labels'][1:]:\n",
    "        temp_label,_ = SkosLabel.objects.get_or_create(\n",
    "            label=y.text,\n",
    "            isoCode=y.attrib['{http://www.w3.org/XML/1998/namespace}lang'],\n",
    "            label_type = \"prefLabel\"\n",
    "        )\n",
    "        temp_concept.label = [temp_label]\n",
    "        temp_concept.save()\n",
    "    for z in x['schemes']:\n",
    "        temp_scheme,_ = SkosConceptScheme.objects.get_or_create(\n",
    "            legacy_id=z.attrib['{http://www.w3.org/1999/02/22-rdf-syntax-ns#}resource']\n",
    "        )\n",
    "        temp_scheme.dc_title = file\n",
    "        temp_scheme.save()\n",
    "        temp_concept.scheme=[temp_scheme]\n",
    "print(len(SkosConcept.objects.all()))"
   ]
  },
  {
   "cell_type": "code",
   "execution_count": 17,
   "metadata": {
    "collapsed": false
   },
   "outputs": [
    {
     "name": "stdout",
     "output_type": "stream",
     "text": [
      "Medizin (vhioe:medizin)\n",
      "Proviantbedienter (vhioe:proviantbedienter)\n",
      "Rottmeister (vhioe:rottmeister)\n",
      "Dekan der Fakultät (vhioe:dekan-der-fakultät)\n",
      "Gouvernante (vhioe:gouvernante)\n",
      "Zeichner (vhioe:zeichner)\n",
      "Rittmeister (vhioe:rittmeister)\n",
      "Bornmeister (vhioe:bornmeister)\n",
      " Hof, Regierung, Verwaltung und Justiz_Sonstiges (vhioe:hof-regierung-verwaltung-und-justiz_sonstiges)\n",
      "Buchhalter (vhioe:buchhalter)\n",
      "Papst (vhioe:papst)\n",
      "Kurator der Universität (vhioe:kurator-der-universität)\n",
      "Gerichtskommissar (vhioe:gerichtskommissar)\n",
      "Pförtner (vhioe:pförtner)\n",
      "Marschall (vhioe:marschall)\n",
      "Fischer (vhioe:fischer)\n",
      "Kommandant (vhioe:kommandant)\n",
      "Verwalter der Universität (vhioe:verwalter-der-universität)\n",
      "Leiter des Konsistoriums (vhioe:leiter-des-konsistoriums)\n",
      "Kanzler der Kirche (vhioe:kanzler-der-kirche)\n"
     ]
    }
   ],
   "source": [
    "for x in concepts[:20]:\n",
    "    temp_uri = x.attrib['{http://www.w3.org/1999/02/22-rdf-syntax-ns#}resource']\n",
    "    temp_notation = temp_uri.split('/')[-1]\n",
    "    temp_concept,_ = SkosConcept.objects.get_or_create(\n",
    "        legacy_id=)\n",
    "    temp_concept.legacy_id = x['id']\n",
    "    for y in x['pref_labels']:\n",
    "        temp_label,_ = SkosLabel.objects.get_or_create(\n",
    "            label=y.text,\n",
    "            isoCode=y.attrib['{http://www.w3.org/XML/1998/namespace}lang'],\n",
    "            label_type = \"prefLabel\"\n",
    "        )\n",
    "        temp_concept.label = [temp_label]\n",
    "        temp_concept.save()\n",
    "    for z in x['schemes']:\n",
    "        temp_scheme,_ = SkosConceptScheme.objects.get_or_create(\n",
    "            legacy_id=z.attrib['{http://www.w3.org/1999/02/22-rdf-syntax-ns#}resource']\n",
    "        )\n",
    "        temp_scheme.dc_title = file\n",
    "        temp_scheme.save()\n",
    "        temp_concept.scheme=[temp_scheme]\n",
    "    for y in x['broader']:\n",
    "        broader_temp = SkosConcept.objects.get_or_create(\n",
    "            legacy_id=y.attrib['{http://www.w3.org/1999/02/22-rdf-syntax-ns#}resource'])\n",
    "    print(temp_concept)"
   ]
  },
  {
   "cell_type": "code",
   "execution_count": 11,
   "metadata": {
    "collapsed": true
   },
   "outputs": [],
   "source": [
    "for x in SkosConcept.objects.all():\n",
    "    x.delete()"
   ]
  },
  {
   "cell_type": "code",
   "execution_count": 18,
   "metadata": {
    "collapsed": true
   },
   "outputs": [],
   "source": [
    "for x in SkosLabel.objects.all():\n",
    "    x.delete()"
   ]
  },
  {
   "cell_type": "code",
   "execution_count": null,
   "metadata": {
    "collapsed": true
   },
   "outputs": [],
   "source": []
  }
 ],
 "metadata": {
  "kernelspec": {
   "display_name": "Django Shell-Plus",
   "language": "python",
   "name": "django_extensions"
  },
  "language_info": {
   "codemirror_mode": {
    "name": "ipython",
    "version": 3
   },
   "file_extension": ".py",
   "mimetype": "text/x-python",
   "name": "python",
   "nbconvert_exporter": "python",
   "pygments_lexer": "ipython3",
   "version": "3.5.2"
  }
 },
 "nbformat": 4,
 "nbformat_minor": 1
}
